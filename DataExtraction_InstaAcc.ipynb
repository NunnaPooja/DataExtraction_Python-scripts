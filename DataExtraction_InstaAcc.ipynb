{
  "nbformat": 4,
  "nbformat_minor": 0,
  "metadata": {
    "colab": {
      "provenance": [],
      "authorship_tag": "ABX9TyPwjagoYqd2zYQPVj34rpHN",
      "include_colab_link": true
    },
    "kernelspec": {
      "name": "python3",
      "display_name": "Python 3"
    },
    "language_info": {
      "name": "python"
    }
  },
  "cells": [
    {
      "cell_type": "markdown",
      "metadata": {
        "id": "view-in-github",
        "colab_type": "text"
      },
      "source": [
        "<a href=\"https://colab.research.google.com/github/NunnaPooja/DataExtraction_Python-scripts/blob/main/DataExtraction_InstaAcc.ipynb\" target=\"_parent\"><img src=\"https://colab.research.google.com/assets/colab-badge.svg\" alt=\"Open In Colab\"/></a>"
      ]
    },
    {
      "cell_type": "code",
      "source": [
        "!pip install selenium\n"
      ],
      "metadata": {
        "colab": {
          "base_uri": "https://localhost:8080/"
        },
        "id": "GZZrRZeP3F5X",
        "outputId": "eaafd68f-1d80-417a-cc7e-9cfa51e7729f"
      },
      "execution_count": 2,
      "outputs": [
        {
          "output_type": "stream",
          "name": "stdout",
          "text": [
            "Collecting selenium\n",
            "  Downloading selenium-4.33.0-py3-none-any.whl.metadata (7.5 kB)\n",
            "Requirement already satisfied: urllib3~=2.4.0 in /usr/local/lib/python3.11/dist-packages (from urllib3[socks]~=2.4.0->selenium) (2.4.0)\n",
            "Collecting trio~=0.30.0 (from selenium)\n",
            "  Downloading trio-0.30.0-py3-none-any.whl.metadata (8.5 kB)\n",
            "Collecting trio-websocket~=0.12.2 (from selenium)\n",
            "  Downloading trio_websocket-0.12.2-py3-none-any.whl.metadata (5.1 kB)\n",
            "Requirement already satisfied: certifi>=2025.4.26 in /usr/local/lib/python3.11/dist-packages (from selenium) (2025.6.15)\n",
            "Collecting typing_extensions~=4.13.2 (from selenium)\n",
            "  Downloading typing_extensions-4.13.2-py3-none-any.whl.metadata (3.0 kB)\n",
            "Requirement already satisfied: websocket-client~=1.8.0 in /usr/local/lib/python3.11/dist-packages (from selenium) (1.8.0)\n",
            "Requirement already satisfied: attrs>=23.2.0 in /usr/local/lib/python3.11/dist-packages (from trio~=0.30.0->selenium) (25.3.0)\n",
            "Requirement already satisfied: sortedcontainers in /usr/local/lib/python3.11/dist-packages (from trio~=0.30.0->selenium) (2.4.0)\n",
            "Requirement already satisfied: idna in /usr/local/lib/python3.11/dist-packages (from trio~=0.30.0->selenium) (3.10)\n",
            "Collecting outcome (from trio~=0.30.0->selenium)\n",
            "  Downloading outcome-1.3.0.post0-py2.py3-none-any.whl.metadata (2.6 kB)\n",
            "Requirement already satisfied: sniffio>=1.3.0 in /usr/local/lib/python3.11/dist-packages (from trio~=0.30.0->selenium) (1.3.1)\n",
            "Collecting wsproto>=0.14 (from trio-websocket~=0.12.2->selenium)\n",
            "  Downloading wsproto-1.2.0-py3-none-any.whl.metadata (5.6 kB)\n",
            "Requirement already satisfied: pysocks!=1.5.7,<2.0,>=1.5.6 in /usr/local/lib/python3.11/dist-packages (from urllib3[socks]~=2.4.0->selenium) (1.7.1)\n",
            "Requirement already satisfied: h11<1,>=0.9.0 in /usr/local/lib/python3.11/dist-packages (from wsproto>=0.14->trio-websocket~=0.12.2->selenium) (0.16.0)\n",
            "Downloading selenium-4.33.0-py3-none-any.whl (9.4 MB)\n",
            "\u001b[2K   \u001b[90m━━━━━━━━━━━━━━━━━━━━━━━━━━━━━━━━━━━━━━━━\u001b[0m \u001b[32m9.4/9.4 MB\u001b[0m \u001b[31m68.8 MB/s\u001b[0m eta \u001b[36m0:00:00\u001b[0m\n",
            "\u001b[?25hDownloading trio-0.30.0-py3-none-any.whl (499 kB)\n",
            "\u001b[2K   \u001b[90m━━━━━━━━━━━━━━━━━━━━━━━━━━━━━━━━━━━━━━━━\u001b[0m \u001b[32m499.2/499.2 kB\u001b[0m \u001b[31m30.1 MB/s\u001b[0m eta \u001b[36m0:00:00\u001b[0m\n",
            "\u001b[?25hDownloading trio_websocket-0.12.2-py3-none-any.whl (21 kB)\n",
            "Downloading typing_extensions-4.13.2-py3-none-any.whl (45 kB)\n",
            "\u001b[2K   \u001b[90m━━━━━━━━━━━━━━━━━━━━━━━━━━━━━━━━━━━━━━━━\u001b[0m \u001b[32m45.8/45.8 kB\u001b[0m \u001b[31m3.1 MB/s\u001b[0m eta \u001b[36m0:00:00\u001b[0m\n",
            "\u001b[?25hDownloading outcome-1.3.0.post0-py2.py3-none-any.whl (10 kB)\n",
            "Downloading wsproto-1.2.0-py3-none-any.whl (24 kB)\n",
            "Installing collected packages: wsproto, typing_extensions, outcome, trio, trio-websocket, selenium\n",
            "  Attempting uninstall: typing_extensions\n",
            "    Found existing installation: typing_extensions 4.14.0\n",
            "    Uninstalling typing_extensions-4.14.0:\n",
            "      Successfully uninstalled typing_extensions-4.14.0\n",
            "\u001b[31mERROR: pip's dependency resolver does not currently take into account all the packages that are installed. This behaviour is the source of the following dependency conflicts.\n",
            "torch 2.6.0+cu124 requires nvidia-cublas-cu12==12.4.5.8; platform_system == \"Linux\" and platform_machine == \"x86_64\", but you have nvidia-cublas-cu12 12.5.3.2 which is incompatible.\n",
            "torch 2.6.0+cu124 requires nvidia-cuda-cupti-cu12==12.4.127; platform_system == \"Linux\" and platform_machine == \"x86_64\", but you have nvidia-cuda-cupti-cu12 12.5.82 which is incompatible.\n",
            "torch 2.6.0+cu124 requires nvidia-cuda-nvrtc-cu12==12.4.127; platform_system == \"Linux\" and platform_machine == \"x86_64\", but you have nvidia-cuda-nvrtc-cu12 12.5.82 which is incompatible.\n",
            "torch 2.6.0+cu124 requires nvidia-cuda-runtime-cu12==12.4.127; platform_system == \"Linux\" and platform_machine == \"x86_64\", but you have nvidia-cuda-runtime-cu12 12.5.82 which is incompatible.\n",
            "torch 2.6.0+cu124 requires nvidia-cudnn-cu12==9.1.0.70; platform_system == \"Linux\" and platform_machine == \"x86_64\", but you have nvidia-cudnn-cu12 9.3.0.75 which is incompatible.\n",
            "torch 2.6.0+cu124 requires nvidia-cufft-cu12==11.2.1.3; platform_system == \"Linux\" and platform_machine == \"x86_64\", but you have nvidia-cufft-cu12 11.2.3.61 which is incompatible.\n",
            "torch 2.6.0+cu124 requires nvidia-curand-cu12==10.3.5.147; platform_system == \"Linux\" and platform_machine == \"x86_64\", but you have nvidia-curand-cu12 10.3.6.82 which is incompatible.\n",
            "torch 2.6.0+cu124 requires nvidia-cusolver-cu12==11.6.1.9; platform_system == \"Linux\" and platform_machine == \"x86_64\", but you have nvidia-cusolver-cu12 11.6.3.83 which is incompatible.\n",
            "torch 2.6.0+cu124 requires nvidia-cusparse-cu12==12.3.1.170; platform_system == \"Linux\" and platform_machine == \"x86_64\", but you have nvidia-cusparse-cu12 12.5.1.3 which is incompatible.\n",
            "torch 2.6.0+cu124 requires nvidia-nvjitlink-cu12==12.4.127; platform_system == \"Linux\" and platform_machine == \"x86_64\", but you have nvidia-nvjitlink-cu12 12.5.82 which is incompatible.\n",
            "typeguard 4.4.3 requires typing_extensions>=4.14.0, but you have typing-extensions 4.13.2 which is incompatible.\u001b[0m\u001b[31m\n",
            "\u001b[0mSuccessfully installed outcome-1.3.0.post0 selenium-4.33.0 trio-0.30.0 trio-websocket-0.12.2 typing_extensions-4.13.2 wsproto-1.2.0\n"
          ]
        }
      ]
    },
    {
      "cell_type": "code",
      "source": [
        "from selenium import webdriver\n",
        "from selenium.webdriver.chrome.options import Options\n",
        "from selenium.webdriver.common.by import By\n",
        "import time\n",
        "import pandas as pd\n",
        "\n",
        "# Configure Chrome options\n",
        "chrome_options = Options()\n",
        "chrome_options.add_argument(\"--headless\")  # Run in headless mode\n",
        "chrome_options.add_argument(\"--no-sandbox\")\n",
        "chrome_options.add_argument(\"--disable-dev-shm-usage\")\n",
        "\n",
        "# Start WebDriver\n",
        "driver = webdriver.Chrome(options=chrome_options)\n",
        "\n",
        "def extract_instagram_data(profile_url, num_posts=10):\n",
        "    driver.get(profile_url)\n",
        "    time.sleep(5)  # Allow page to load\n",
        "\n",
        "    # Extract Follower Count\n",
        "    try:\n",
        "        followers = driver.find_element(By.XPATH, '//header//span[contains(@title, \"\")]').get_attribute(\"title\")\n",
        "        print(f\"Follower Count: {followers}\")\n",
        "    except:\n",
        "        followers = \"N/A\"\n",
        "\n",
        "    # Scroll to load posts dynamically\n",
        "    post_links = []\n",
        "    last_height = driver.execute_script(\"return document.body.scrollHeight\")\n",
        "    while len(post_links) < num_posts:\n",
        "        driver.execute_script(\"window.scrollTo(0, document.body.scrollHeight);\")\n",
        "        time.sleep(5)  # Wait for content to load\n",
        "        posts = driver.find_elements(By.TAG_NAME, \"a\")\n",
        "        new_links = [\n",
        "            post.get_attribute(\"href\")\n",
        "            for post in posts\n",
        "            if post.get_attribute(\"href\") and \"/p/\" in post.get_attribute(\"href\")\n",
        "        ]\n",
        "        post_links.extend(new_links)\n",
        "        post_links = list(set(post_links))  # Remove duplicates\n",
        "        new_height = driver.execute_script(\"return document.body.scrollHeight\")\n",
        "        if new_height == last_height:  # Check if scrolling has reached the end\n",
        "            break\n",
        "        last_height = new_height\n",
        "\n",
        "    # Limit to the required number of posts\n",
        "    post_links = post_links[:num_posts]\n",
        "\n",
        "    # Initialize data storage\n",
        "    data = []\n",
        "\n",
        "    for post_url in post_links:\n",
        "        driver.get(post_url)\n",
        "        time.sleep(5)  # Allow post page to load\n",
        "\n",
        "        try:\n",
        "\n",
        "          # Extract Date\n",
        "            try:\n",
        "                date_element = driver.find_element(By.TAG_NAME, \"time\")\n",
        "                date = date_element.get_attribute(\"datetime\") if date_element else \"N/A\"\n",
        "            except:\n",
        "                date = \"N/A\"\n",
        "\n",
        "            # Extract Post ID\n",
        "            post_id = post_url.split(\"/p/\")[1].strip(\"/\")\n",
        "            print(f\"Processing Post ID: {post_id}\")\n",
        "\n",
        "            # Extract Likes\n",
        "            try:\n",
        "                likes_element = driver.find_element(By.XPATH, '//section//span[contains(text(), \" likes\")]')\n",
        "                likes = likes_element.text.split(\" \")[0] if likes_element else \"0\"\n",
        "            except:\n",
        "                likes = \"0\"\n",
        "\n",
        "            # Extract Comments Count\n",
        "            try:\n",
        "                comments = driver.find_elements(By.XPATH, '//ul[@role=\"presentation\"]/li')\n",
        "                comment_count = len(comments)\n",
        "            except:\n",
        "                comment_count = 0\n",
        "\n",
        "            # Add data to the list\n",
        "            data.append({\n",
        "                \"Post ID\": post_id,\n",
        "                \"Date\": date,\n",
        "                \"Followers\": followers,\n",
        "                \"Likes\": likes,\n",
        "                \"Comments\": comment_count,\n",
        "                \"Post Link\": post_url\n",
        "            })\n",
        "\n",
        "        except Exception as e:\n",
        "            print(f\"Error processing {post_url}: {e}\")\n",
        "\n",
        "    return data\n",
        "\n",
        "# Extract data\n",
        "profile_url = \"https://www.instagram.com/aadesh_charitable_foundation/\"\n",
        "num_posts = 10\n",
        "posts_data = extract_instagram_data(profile_url, num_posts=num_posts)\n",
        "\n",
        "# Convert to DataFrame\n",
        "df = pd.DataFrame(posts_data)\n",
        "\n",
        "# Save to Excel\n",
        "excel_file = \"instagram_data.xlsx\"\n",
        "df.to_excel(excel_file, index=False)\n",
        "print(f\"Data saved to {excel_file}\")\n",
        "\n",
        "# Quit the driver\n",
        "driver.quit()\n"
      ],
      "metadata": {
        "colab": {
          "base_uri": "https://localhost:8080/"
        },
        "id": "WtWWx6gg3M8j",
        "outputId": "7b5d6b95-c18d-4cf6-875c-2cd38b066fee"
      },
      "execution_count": 6,
      "outputs": [
        {
          "output_type": "stream",
          "name": "stdout",
          "text": [
            "Data saved to instagram_data.xlsx\n"
          ]
        }
      ]
    }
  ]
}